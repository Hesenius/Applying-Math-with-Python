{
  "nbformat": 4,
  "nbformat_minor": 0,
  "metadata": {
    "colab": {
      "provenance": [],
      "include_colab_link": true
    },
    "kernelspec": {
      "name": "python3",
      "display_name": "Python 3"
    },
    "language_info": {
      "name": "python"
    }
  },
  "cells": [
    {
      "cell_type": "markdown",
      "metadata": {
        "id": "view-in-github",
        "colab_type": "text"
      },
      "source": [
        "<a href=\"https://colab.research.google.com/github/Hesenius/Applying-Math-with-Python/blob/master/Matrix_Multiplication.ipynb\" target=\"_parent\"><img src=\"https://colab.research.google.com/assets/colab-badge.svg\" alt=\"Open In Colab\"/></a>"
      ]
    },
    {
      "cell_type": "code",
      "execution_count": null,
      "metadata": {
        "colab": {
          "base_uri": "https://localhost:8080/"
        },
        "id": "I0Esp_ArG_AB",
        "outputId": "e327596e-7ca8-42a4-f732-286bea2a9a8a"
      },
      "outputs": [
        {
          "output_type": "stream",
          "name": "stdout",
          "text": [
            "[[-15 -34   6]\n",
            " [ -5  -6  -8]\n",
            " [ -2 -13  15]]\n"
          ]
        }
      ],
      "source": [
        "import numpy as np\n",
        "\n",
        "A = np.array([[1,2,7],[-1,0,1],[2,1,3]])\n",
        "\n",
        "B = np.array([[3,1,8],[-2,0,-1],[-2,-5,0]])\n",
        "\n",
        "AB = np.matmul(A,B)\n",
        "print(AB)\n"
      ]
    },
    {
      "cell_type": "code",
      "source": [
        "# Where do these numbers come from?\n",
        "\n",
        "# Pick a row and column for the new matrix AB.\n",
        "\n",
        "row = 2\n",
        "column = 1\n",
        "\n",
        "# Multiply this row from A and the column from B.\n",
        "\n",
        "RowColumn = A[row,:]*B[:,column]\n",
        "\n",
        "print(A[row,:])\n",
        "print(B[:,column])\n",
        "\n",
        "print(RowColumn)\n",
        "\n",
        "print(sum(RowColumn))"
      ],
      "metadata": {
        "id": "X1QLpyluIG5D",
        "colab": {
          "base_uri": "https://localhost:8080/"
        },
        "outputId": "d1167223-ec04-4940-a6da-5180af37230f"
      },
      "execution_count": null,
      "outputs": [
        {
          "output_type": "stream",
          "name": "stdout",
          "text": [
            "[2 1 3]\n",
            "[ 1  0 -5]\n",
            "[  2   0 -15]\n",
            "-13\n"
          ]
        }
      ]
    },
    {
      "cell_type": "code",
      "source": [
        "# Does it work in reverse?\n",
        "\n",
        "# Pick a row and column for the new matrix AB.\n",
        "\n",
        "row = 2\n",
        "column = 0\n",
        "\n",
        "# Multiply this row from A and the column from B.\n",
        "\n",
        "print('=== A times B ===')\n",
        "\n",
        "RowColumn = A[row,:]*B[:,column]\n",
        "\n",
        "print(RowColumn)\n",
        "\n",
        "print(sum(RowColumn))\n",
        "\n",
        "# Multiply this row from B and the column from A.\n",
        "\n",
        "print('=== B times A ===')\n",
        "\n",
        "RowColumn = B[row,:]*A[:,column]\n",
        "\n",
        "print(RowColumn)\n",
        "\n",
        "print(sum(RowColumn))"
      ],
      "metadata": {
        "colab": {
          "base_uri": "https://localhost:8080/"
        },
        "id": "7QOAkGz7IIp_",
        "outputId": "9edb2b13-eec9-4556-cff8-dde6ea6f1cc2"
      },
      "execution_count": null,
      "outputs": [
        {
          "output_type": "stream",
          "name": "stdout",
          "text": [
            "=== A times B ===\n",
            "[ 6 -2 -6]\n",
            "-2\n",
            "=== B times A ===\n",
            "[-2  5  0]\n",
            "3\n"
          ]
        }
      ]
    },
    {
      "cell_type": "code",
      "source": [
        "print(np.matmul(A,B))\n",
        "print(np.matmul(B,A))"
      ],
      "metadata": {
        "colab": {
          "base_uri": "https://localhost:8080/"
        },
        "id": "9K6sz_ZoISIE",
        "outputId": "f2c2790f-9d54-44fa-fcbd-9ba4d415a518"
      },
      "execution_count": null,
      "outputs": [
        {
          "output_type": "stream",
          "name": "stdout",
          "text": [
            "[[-15 -34   6]\n",
            " [ -5  -6  -8]\n",
            " [ -2 -13  15]]\n",
            "[[ 18  14  46]\n",
            " [ -4  -5 -17]\n",
            " [  3  -4 -19]]\n"
          ]
        }
      ]
    },
    {
      "cell_type": "code",
      "source": [
        "# Now apply to Lorentz Transformations!\n",
        "\n",
        "import numpy as np\n",
        "\n",
        "def lorentz(v):\n",
        "  c = 1 # God-given units\n",
        "  beta  = v/c\n",
        "  gamma = (1-beta**2)**-0.5\n",
        "\n",
        "  return np.array([\n",
        "    [gamma,-beta*gamma,0,0],\n",
        "    [-beta*gamma,gamma,0,0],\n",
        "    [0,0,1,0],\n",
        "    [0,0,0,1]\n",
        "  ])\n",
        "\n",
        "v = 0.5\n",
        "\n",
        "print(lorentz(v))\n",
        "\n",
        "x = np.array([[np.pi],[np.exp(2)],[0],[0]])\n",
        "print(x)\n",
        "print(np.matmul(lorentz(v),x))\n",
        "\n",
        "# What if you needed to apply lorentz twice?\n",
        "print(np.matmul(lorentz(v/2),np.matmul(lorentz(v),x)))\n",
        "\n",
        "# In reverse?\n",
        "print('=== reverse! ===')\n",
        "print(np.matmul(lorentz(v/2),x))\n",
        "print(np.matmul(lorentz(v),np.matmul(lorentz(v/2),x)))\n"
      ],
      "metadata": {
        "id": "71f5gCVkIfkH",
        "colab": {
          "base_uri": "https://localhost:8080/"
        },
        "outputId": "6ffce4f8-e1d1-47e4-94c0-a96b908b9ace"
      },
      "execution_count": null,
      "outputs": [
        {
          "output_type": "stream",
          "name": "stdout",
          "text": [
            "[[ 1.15470054 -0.57735027  0.          0.        ]\n",
            " [-0.57735027  1.15470054  0.          0.        ]\n",
            " [ 0.          0.          1.          0.        ]\n",
            " [ 0.          0.          0.          1.        ]]\n",
            "[[3.14159265]\n",
            " [7.3890561 ]\n",
            " [0.        ]\n",
            " [0.        ]]\n",
            "[[-0.6384748 ]\n",
            " [ 6.71834769]\n",
            " [ 0.        ]\n",
            " [ 0.        ]]\n",
            "[[-2.39408385]\n",
            " [ 7.10353314]\n",
            " [ 0.        ]\n",
            " [ 0.        ]]\n",
            "=== reverse! ===\n",
            "[[1.33677686]\n",
            " [6.82022859]\n",
            " [0.        ]\n",
            " [0.        ]]\n",
            "[[-2.39408385]\n",
            " [ 7.10353314]\n",
            " [ 0.        ]\n",
            " [ 0.        ]]\n"
          ]
        }
      ]
    }
  ]
}